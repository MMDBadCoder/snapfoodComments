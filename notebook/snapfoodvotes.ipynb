{
 "cells": [
  {
   "cell_type": "markdown",
   "metadata": {
    "direction": "rtl"
   },
   "source": [
    "# بررسی نظرات اسنپ‌فود\n",
    "\n",
    "در این پروژه قصد داریم داده های مربوط به نظرات و کامنت‌های رستوران‌های اسنپ‌فود را مورد بررسی قرار دهیم.\n",
    "هر کامنت شامل نام و آی‌دی و سایر اطلاعات هویتی است به همراه یک متن چند جمله‌ای و یک امتیاز عددی یک در بازه‌ی یک تا ده است و ما کانت های مربوط به رستوران‌های مطرح تهران را جمع‌آوری کرده‌ایم و آن‌ها را بر اساس امتیازی که داه‌اند گرده‌بندی کرده‌ایم و کامنت های مربوط به هر امتیاز را در یک فایل مجزا قرار داده‌ایم. به طور مثال کانت های مربوط به امتیاز های ۱۰ را فایلی به نام 10.csv قرار داده‌ایم که در آدرس data_collector/comments_by_rate/10.csv قابل دستیابی است."
   ]
  },
  {
   "cell_type": "markdown",
   "metadata": {
    "direction": "rtl"
   },
   "source": [
    "حال میخواهیم بررسی کنیم ببینیم لغات به کار رفته در کامنت هایی که امتیاز بالا داده‌اند از چه ترکیب و توزیعی برخوردار‌اند و همچنین کانت های مربوط به امتیاز های پایین از چه لغاتی استفاده کرده‌اند و سپس این‌ها را با هم مقایسه کنیم."
   ]
  },
  {
   "cell_type": "code",
   "execution_count": 1,
   "metadata": {},
   "outputs": [],
   "source": [
    "comments_files_path = \"/home/mohammad/Desktop/Advanced Information Retrieval/snapfood/data_collector/comments_by_rate\""
   ]
  },
  {
   "cell_type": "code",
   "execution_count": 2,
   "metadata": {},
   "outputs": [
    {
     "name": "stdout",
     "output_type": "stream",
     "text": [
      "Requirement already satisfied: numpy in /home/mohammad/.local/lib/python3.8/site-packages (1.22.4)\n",
      "Requirement already satisfied: nltk in /home/mohammad/.local/lib/python3.8/site-packages (3.7)\n",
      "Requirement already satisfied: tqdm in /home/mohammad/.local/lib/python3.8/site-packages (from nltk) (4.64.0)\n",
      "Requirement already satisfied: regex>=2021.8.3 in /home/mohammad/.local/lib/python3.8/site-packages (from nltk) (2022.4.24)\n",
      "Requirement already satisfied: click in /usr/lib/python3/dist-packages (from nltk) (7.0)\n",
      "Requirement already satisfied: joblib in /home/mohammad/.local/lib/python3.8/site-packages (from nltk) (1.1.0)\n",
      "Collecting hazm\n",
      "  Using cached hazm-0.7.0-py3-none-any.whl (316 kB)\n",
      "Processing /home/mohammad/.cache/pip/wheels/3c/d8/9f/59fd78b2b7d1e9ffcb68fb6de80c2e7c20b804c8cbc4d8fc23/libwapiti-0.2.1-cp38-cp38-linux_x86_64.whl\n",
      "Processing /home/mohammad/.cache/pip/wheels/19/1d/3a/0a8c14c30132b4f9ffd796efbb6746f15b3d6bcfc1055a9346/nltk-3.3-py3-none-any.whl\n",
      "Requirement already satisfied: six in /usr/lib/python3/dist-packages (from libwapiti>=0.2.1; platform_system != \"Windows\"->hazm) (1.14.0)\n",
      "Installing collected packages: libwapiti, nltk, hazm\n",
      "  Attempting uninstall: nltk\n",
      "    Found existing installation: nltk 3.7\n",
      "    Uninstalling nltk-3.7:\n",
      "      Successfully uninstalled nltk-3.7\n",
      "Successfully installed hazm-0.7.0 libwapiti-0.2.1 nltk-3.3\n",
      "Requirement already satisfied: pandas in /home/mohammad/.local/lib/python3.8/site-packages (1.4.2)\n",
      "Requirement already satisfied: pytz>=2020.1 in /home/mohammad/.local/lib/python3.8/site-packages (from pandas) (2022.1)\n",
      "Requirement already satisfied: python-dateutil>=2.8.1 in /home/mohammad/.local/lib/python3.8/site-packages (from pandas) (2.8.2)\n",
      "Requirement already satisfied: numpy>=1.18.5; platform_machine != \"aarch64\" and platform_machine != \"arm64\" and python_version < \"3.10\" in /home/mohammad/.local/lib/python3.8/site-packages (from pandas) (1.22.4)\n",
      "Requirement already satisfied: six>=1.5 in /usr/lib/python3/dist-packages (from python-dateutil>=2.8.1->pandas) (1.14.0)\n",
      "\u001b[31mERROR: Could not find a version that satisfies the requirement codecs (from versions: none)\u001b[0m\n",
      "\u001b[31mERROR: No matching distribution found for codecs\u001b[0m\n",
      "Requirement already satisfied: tqdm in /home/mohammad/.local/lib/python3.8/site-packages (4.64.0)\n"
     ]
    }
   ],
   "source": [
    "! pip install numpy\n",
    "! pip install nltk\n",
    "! pip install hazm\n",
    "! pip install pandas\n",
    "! pip install codecs\n",
    "! pip install tqdm\n"
   ]
  },
  {
   "cell_type": "code",
   "execution_count": 3,
   "metadata": {},
   "outputs": [],
   "source": [
    "import random \n",
    "import numpy as np\n",
    "import nltk\n",
    "import pandas as pd\n",
    "import codecs\n",
    "import tqdm\n",
    "import os\n"
   ]
  },
  {
   "cell_type": "code",
   "execution_count": 94,
   "metadata": {},
   "outputs": [
    {
     "name": "stderr",
     "output_type": "stream",
     "text": [
      "100%|███████████████████████████████████████████████████████████████████████████| 1690/1690 [00:00<00:00, 253736.17it/s]\n",
      "100%|███████████████████████████████████████████████████████████████████████████| 1032/1032 [00:00<00:00, 259255.01it/s]\n",
      "100%|███████████████████████████████████████████████████████████████████████████████████| 1/1 [00:00<00:00, 2082.57it/s]\n",
      "100%|█████████████████████████████████████████████████████████████████████████████| 389/389 [00:00<00:00, 126234.76it/s]\n",
      "100%|██████████████████████████████████████████████████████████████████████████████████| 3/3 [00:00<00:00, 13781.94it/s]\n",
      "100%|█████████████████████████████████████████████████████████████████████████████| 539/539 [00:00<00:00, 109045.43it/s]\n",
      "100%|██████████████████████████████████████████████████████████████████████████████| 764/764 [00:00<00:00, 67076.55it/s]\n",
      "100%|███████████████████████████████████████████████████████████████████████████| 1728/1728 [00:00<00:00, 151095.67it/s]\n"
     ]
    }
   ],
   "source": [
    "comments_collection = {}\n",
    "for i in range(11):\n",
    "    comments_collection[i] = []\n",
    "    file_path = comments_files_path + \"/\" + str(i) + \".csv\"\n",
    "    if os.path.isfile(file_path):\n",
    "        comments_collection[i] = [x.strip().split() for x in tqdm.tqdm(codecs.open(file_path,'rU','utf-8').readlines())]"
   ]
  },
  {
   "cell_type": "markdown",
   "metadata": {
    "direction": "rtl"
   },
   "source": [
    "حال داده ها را نرمال می‌کنیم:"
   ]
  },
  {
   "cell_type": "code",
   "execution_count": 98,
   "metadata": {},
   "outputs": [
    {
     "name": "stderr",
     "output_type": "stream",
     "text": [
      "100%|█████████████████████████████████████████████████████████████████████████████| 1690/1690 [00:01<00:00, 1598.36it/s]\n",
      "0it [00:00, ?it/s]\n",
      "100%|█████████████████████████████████████████████████████████████████████████████| 1032/1032 [00:00<00:00, 1563.40it/s]\n",
      "100%|████████████████████████████████████████████████████████████████████████████████████| 1/1 [00:00<00:00, 651.09it/s]\n",
      "100%|███████████████████████████████████████████████████████████████████████████████| 389/389 [00:00<00:00, 1281.34it/s]\n",
      "100%|███████████████████████████████████████████████████████████████████████████████████| 3/3 [00:00<00:00, 1405.44it/s]\n",
      "100%|███████████████████████████████████████████████████████████████████████████████| 539/539 [00:00<00:00, 1236.25it/s]\n",
      "0it [00:00, ?it/s]\n",
      "100%|███████████████████████████████████████████████████████████████████████████████| 764/764 [00:00<00:00, 1365.98it/s]\n",
      "0it [00:00, ?it/s]\n",
      "100%|█████████████████████████████████████████████████████████████████████████████| 1728/1728 [00:01<00:00, 1364.73it/s]\n"
     ]
    }
   ],
   "source": [
    "from __future__ import unicode_literals\n",
    "from hazm import *\n",
    "\n",
    "normalizer = Normalizer()\n",
    "\n",
    "comments_normalized = {}\n",
    "for i in range(11):\n",
    "    comments_normalized[i] = [[normalizer.normalize(y) for y in x] for x in tqdm.tqdm(comments_collection[i])]"
   ]
  },
  {
   "cell_type": "code",
   "execution_count": 100,
   "metadata": {},
   "outputs": [
    {
     "name": "stderr",
     "output_type": "stream",
     "text": [
      "100%|████████████████████████████████████████████████████████████████████████████| 1690/1690 [00:00<00:00, 88500.68it/s]\n",
      "100%|████████████████████████████████████████████████████████████████████████████| 1690/1690 [00:00<00:00, 26951.27it/s]\n",
      "0it [00:00, ?it/s]\n",
      "0it [00:00, ?it/s]\n",
      "100%|████████████████████████████████████████████████████████████████████████████| 1032/1032 [00:00<00:00, 87077.22it/s]\n",
      "100%|████████████████████████████████████████████████████████████████████████████| 1032/1032 [00:00<00:00, 29016.01it/s]\n",
      "100%|██████████████████████████████████████████████████████████████████████████████████| 1/1 [00:00<00:00, 10618.49it/s]\n",
      "100%|███████████████████████████████████████████████████████████████████████████████████| 1/1 [00:00<00:00, 5518.82it/s]\n",
      "100%|██████████████████████████████████████████████████████████████████████████████| 389/389 [00:00<00:00, 73998.11it/s]\n",
      "100%|██████████████████████████████████████████████████████████████████████████████| 389/389 [00:00<00:00, 23372.12it/s]\n",
      "100%|██████████████████████████████████████████████████████████████████████████████████| 3/3 [00:00<00:00, 27001.96it/s]\n",
      "100%|███████████████████████████████████████████████████████████████████████████████████| 3/3 [00:00<00:00, 9892.23it/s]\n",
      "100%|██████████████████████████████████████████████████████████████████████████████| 539/539 [00:00<00:00, 83514.22it/s]\n",
      "100%|██████████████████████████████████████████████████████████████████████████████| 539/539 [00:00<00:00, 17694.58it/s]\n",
      "0it [00:00, ?it/s]\n",
      "0it [00:00, ?it/s]\n",
      "100%|██████████████████████████████████████████████████████████████████████████████| 764/764 [00:00<00:00, 87409.94it/s]\n",
      "100%|██████████████████████████████████████████████████████████████████████████████| 764/764 [00:00<00:00, 25578.70it/s]\n",
      "0it [00:00, ?it/s]\n",
      "0it [00:00, ?it/s]\n",
      "100%|████████████████████████████████████████████████████████████████████████████| 1728/1728 [00:00<00:00, 76761.64it/s]\n",
      "100%|████████████████████████████████████████████████████████████████████████████| 1728/1728 [00:00<00:00, 23788.72it/s]\n"
     ]
    }
   ],
   "source": [
    "from nltk import FreqDist\n",
    "import itertools\n",
    "import pandas as pd\n",
    "\n",
    "tokens_by_rate = {}\n",
    "\n",
    "for i in range(11):\n",
    "    sentences = [sent_tokenize(' '.join(x)) for x in tqdm.tqdm(comments_normalized[i])]\n",
    "    tokens = [[word_tokenize(sent) for sent in sents] for sents in tqdm.tqdm(sentences)]\n",
    "    tokens_by_rate[i] = list(itertools.chain(*itertools.chain(*tokens)))\n",
    "\n",
    "\n"
   ]
  },
  {
   "cell_type": "markdown",
   "metadata": {
    "direction": "rtl"
   },
   "source": [
    "حال لغات مربوط به امتیاز های خوب را از لغات مربوط به امتیاز های بد جدا می‌کنیم. "
   ]
  },
  {
   "cell_type": "code",
   "execution_count": 101,
   "metadata": {},
   "outputs": [],
   "source": [
    "bad_food_threshold = 5\n",
    "good_food_threshold = 8\n",
    "\n",
    "\n",
    "bad_tokens = []\n",
    "for i in range(bad_food_threshold):\n",
    "    bad_tokens += tokens_by_rate[i]\n",
    "\n",
    "good_tokens = []\n",
    "for i in range(good_food_threshold, 11):\n",
    "    good_tokens += tokens_by_rate[i]\n"
   ]
  },
  {
   "cell_type": "markdown",
   "metadata": {
    "direction": "rtl"
   },
   "source": [
    "حال لغات پر تکرار را حذف می‌کنیم."
   ]
  },
  {
   "cell_type": "code",
   "execution_count": 102,
   "metadata": {},
   "outputs": [],
   "source": [
    "stopwords_file_path = \"/home/mohammad/Desktop/Advanced Information Retrieval/snapfood/notebook/resources/stopwords.txt\"\n",
    "stopwords = [normalizer.normalize(x.strip()) for x in codecs.open(stopwords_file_path,'r','utf-8').readlines()]"
   ]
  },
  {
   "cell_type": "code",
   "execution_count": 103,
   "metadata": {},
   "outputs": [
    {
     "name": "stderr",
     "output_type": "stream",
     "text": [
      "100%|███████████████████████████████████████████████████████████████████████| 156640/156640 [00:00<00:00, 533128.23it/s]\n",
      "100%|███████████████████████████████████████████████████████████████████████| 140498/140498 [00:00<00:00, 546914.73it/s]\n"
     ]
    }
   ],
   "source": [
    "bad_tokens = [t for t in tqdm.tqdm(bad_tokens) if t not in stopwords]\n",
    "good_tokens = [t for t in tqdm.tqdm(good_tokens) if t not in stopwords]\n",
    "\n"
   ]
  },
  {
   "cell_type": "markdown",
   "metadata": {
    "direction": "rtl"
   },
   "source": [
    "لغات مشترک را حذف می‌کنیم."
   ]
  },
  {
   "cell_type": "code",
   "execution_count": 108,
   "metadata": {},
   "outputs": [
    {
     "name": "stderr",
     "output_type": "stream",
     "text": [
      "100%|████████████████████████████████████████████████████████████████████████| 88504/88504 [00:00<00:00, 4373588.31it/s]\n",
      "100%|████████████████████████████████████████████████████████████████████████| 74433/74433 [00:00<00:00, 4162761.57it/s]\n"
     ]
    }
   ],
   "source": [
    "from collections import Counter\n",
    "bad_top_tokens = [key for key, value in Counter(bad_tokens).most_common()][:100]\n",
    "good_top_tokens = [key for key, value in Counter(good_tokens).most_common()][:100]\n",
    "\n",
    "common_words = set(bad_top_tokens).intersection(good_top_tokens)\n",
    "\n",
    "final_bad_tokens = [t for t in tqdm.tqdm(bad_tokens) if t not in common_words]\n",
    "final_good_tokens = [t for t in tqdm.tqdm(good_tokens) if t not in common_words]\n",
    "\n"
   ]
  },
  {
   "cell_type": "markdown",
   "metadata": {
    "direction": "rtl"
   },
   "source": [
    "حال جدول را رسم می‌کنیم:"
   ]
  },
  {
   "cell_type": "code",
   "execution_count": 109,
   "metadata": {},
   "outputs": [
    {
     "data": {
      "text/html": [
       "<div>\n",
       "<style scoped>\n",
       "    .dataframe tbody tr th:only-of-type {\n",
       "        vertical-align: middle;\n",
       "    }\n",
       "\n",
       "    .dataframe tbody tr th {\n",
       "        vertical-align: top;\n",
       "    }\n",
       "\n",
       "    .dataframe thead th {\n",
       "        text-align: right;\n",
       "    }\n",
       "</style>\n",
       "<table border=\"1\" class=\"dataframe\">\n",
       "  <thead>\n",
       "    <tr style=\"text-align: right;\">\n",
       "      <th></th>\n",
       "      <th>bad food</th>\n",
       "      <th>good food</th>\n",
       "    </tr>\n",
       "  </thead>\n",
       "  <tbody>\n",
       "    <tr>\n",
       "      <th>0</th>\n",
       "      <td>(پایین, 436)</td>\n",
       "      <td>(موقع, 452)</td>\n",
       "    </tr>\n",
       "    <tr>\n",
       "      <th>1</th>\n",
       "      <td>(افتضاح, 361)</td>\n",
       "      <td>(داغ, 404)</td>\n",
       "    </tr>\n",
       "    <tr>\n",
       "      <th>2</th>\n",
       "      <td>(مونده, 357)</td>\n",
       "      <td>(خوش, 402)</td>\n",
       "    </tr>\n",
       "    <tr>\n",
       "      <th>3</th>\n",
       "      <td>(ساعت, 319)</td>\n",
       "      <td>(سریع, 324)</td>\n",
       "    </tr>\n",
       "    <tr>\n",
       "      <th>4</th>\n",
       "      <td>(خمیر, 235)</td>\n",
       "      <td>(ممنونم, 270)</td>\n",
       "    </tr>\n",
       "    <tr>\n",
       "      <th>5</th>\n",
       "      <td>(میداد, 229)</td>\n",
       "      <td>(چی, 247)</td>\n",
       "    </tr>\n",
       "    <tr>\n",
       "      <th>6</th>\n",
       "      <td>(داخل, 223)</td>\n",
       "      <td>(یکم, 237)</td>\n",
       "    </tr>\n",
       "    <tr>\n",
       "      <th>7</th>\n",
       "      <td>(نوشابه, 218)</td>\n",
       "      <td>(بودم, 223)</td>\n",
       "    </tr>\n",
       "    <tr>\n",
       "      <th>8</th>\n",
       "      <td>(خشک, 217)</td>\n",
       "      <td>(بودعالی, 217)</td>\n",
       "    </tr>\n",
       "    <tr>\n",
       "      <th>9</th>\n",
       "      <td>(بوی, 215)</td>\n",
       "      <td>(عالیه, 188)</td>\n",
       "    </tr>\n",
       "    <tr>\n",
       "      <th>10</th>\n",
       "      <td>(تاخیر, 211)</td>\n",
       "      <td>(تشکر, 176)</td>\n",
       "    </tr>\n",
       "    <tr>\n",
       "      <th>11</th>\n",
       "      <td>(خام, 211)</td>\n",
       "      <td>(لذیذ, 176)</td>\n",
       "    </tr>\n",
       "    <tr>\n",
       "      <th>12</th>\n",
       "      <td>(روغن, 209)</td>\n",
       "      <td>(دوست, 172)</td>\n",
       "    </tr>\n",
       "    <tr>\n",
       "      <th>13</th>\n",
       "      <td>(شور, 207)</td>\n",
       "      <td>(مقدار, 167)</td>\n",
       "    </tr>\n",
       "    <tr>\n",
       "      <th>14</th>\n",
       "      <td>(کلا, 206)</td>\n",
       "      <td>(مرسی, 167)</td>\n",
       "    </tr>\n",
       "    <tr>\n",
       "      <th>15</th>\n",
       "      <td>(شدت, 202)</td>\n",
       "      <td>(خوبه, 163)</td>\n",
       "    </tr>\n",
       "    <tr>\n",
       "      <th>16</th>\n",
       "      <td>(دقیقه, 198)</td>\n",
       "      <td>(حجمش, 151)</td>\n",
       "    </tr>\n",
       "    <tr>\n",
       "      <th>17</th>\n",
       "      <td>(فیله, 182)</td>\n",
       "      <td>(امیدوارم, 148)</td>\n",
       "    </tr>\n",
       "    <tr>\n",
       "      <th>18</th>\n",
       "      <td>(سوخته, 179)</td>\n",
       "      <td>(زود, 146)</td>\n",
       "    </tr>\n",
       "    <tr>\n",
       "      <th>19</th>\n",
       "      <td>(توی, 173)</td>\n",
       "      <td>(بودخیلی, 142)</td>\n",
       "    </tr>\n",
       "    <tr>\n",
       "      <th>20</th>\n",
       "      <td>(هزینه, 171)</td>\n",
       "      <td>(داره, 139)</td>\n",
       "    </tr>\n",
       "    <tr>\n",
       "      <th>21</th>\n",
       "      <td>(انگار, 170)</td>\n",
       "      <td>(مخصوصا, 137)</td>\n",
       "    </tr>\n",
       "    <tr>\n",
       "      <th>22</th>\n",
       "      <td>(پیتزای, 157)</td>\n",
       "      <td>(داشتم, 136)</td>\n",
       "    </tr>\n",
       "    <tr>\n",
       "      <th>23</th>\n",
       "      <td>(تیکه, 155)</td>\n",
       "      <td>(میکنم, 131)</td>\n",
       "    </tr>\n",
       "    <tr>\n",
       "      <th>24</th>\n",
       "      <td>(سوخته_بود, 153)</td>\n",
       "      <td>(بشه, 129)</td>\n",
       "    </tr>\n",
       "    <tr>\n",
       "      <th>25</th>\n",
       "      <td>(خوردن, 149)</td>\n",
       "      <td>(برخورد, 126)</td>\n",
       "    </tr>\n",
       "    <tr>\n",
       "      <th>26</th>\n",
       "      <td>(ژامبون, 148)</td>\n",
       "      <td>(طعمش, 124)</td>\n",
       "    </tr>\n",
       "    <tr>\n",
       "      <th>27</th>\n",
       "      <td>(کاهو, 147)</td>\n",
       "      <td>(توضیحات, 120)</td>\n",
       "    </tr>\n",
       "    <tr>\n",
       "      <th>28</th>\n",
       "      <td>(تکه, 146)</td>\n",
       "      <td>(قیمتش, 120)</td>\n",
       "    </tr>\n",
       "    <tr>\n",
       "      <th>29</th>\n",
       "      <td>(ظرف, 144)</td>\n",
       "      <td>(کاش, 117)</td>\n",
       "    </tr>\n",
       "    <tr>\n",
       "      <th>30</th>\n",
       "      <td>(بدی, 141)</td>\n",
       "      <td>(سبزیجات, 114)</td>\n",
       "    </tr>\n",
       "    <tr>\n",
       "      <th>31</th>\n",
       "      <td>(داره, 140)</td>\n",
       "      <td>(شور, 112)</td>\n",
       "    </tr>\n",
       "    <tr>\n",
       "      <th>32</th>\n",
       "      <td>(هات, 140)</td>\n",
       "      <td>(داخل, 111)</td>\n",
       "    </tr>\n",
       "    <tr>\n",
       "      <th>33</th>\n",
       "      <td>(ترین, 138)</td>\n",
       "      <td>(پیتزای, 111)</td>\n",
       "    </tr>\n",
       "    <tr>\n",
       "      <th>34</th>\n",
       "      <td>(چی, 137)</td>\n",
       "      <td>(بودمثل, 111)</td>\n",
       "    </tr>\n",
       "    <tr>\n",
       "      <th>35</th>\n",
       "      <td>(اون, 136)</td>\n",
       "      <td>(اگه, 108)</td>\n",
       "    </tr>\n",
       "    <tr>\n",
       "      <th>36</th>\n",
       "      <td>(بودم, 134)</td>\n",
       "      <td>(خسته, 108)</td>\n",
       "    </tr>\n",
       "    <tr>\n",
       "      <th>37</th>\n",
       "      <td>(داغ, 134)</td>\n",
       "      <td>(بودخوب, 107)</td>\n",
       "    </tr>\n",
       "    <tr>\n",
       "      <th>38</th>\n",
       "      <td>((, 133)</td>\n",
       "      <td>(پیشنهاد, 104)</td>\n",
       "    </tr>\n",
       "    <tr>\n",
       "      <th>39</th>\n",
       "      <td>(چرب, 133)</td>\n",
       "      <td>(کمتر, 103)</td>\n",
       "    </tr>\n",
       "    <tr>\n",
       "      <th>40</th>\n",
       "      <td>(موقع, 132)</td>\n",
       "      <td>(فیله, 103)</td>\n",
       "    </tr>\n",
       "    <tr>\n",
       "      <th>41</th>\n",
       "      <td>(یکم, 132)</td>\n",
       "      <td>(اضافه, 102)</td>\n",
       "    </tr>\n",
       "    <tr>\n",
       "      <th>42</th>\n",
       "      <td>(داگ, 131)</td>\n",
       "      <td>(دست, 102)</td>\n",
       "    </tr>\n",
       "    <tr>\n",
       "      <th>43</th>\n",
       "      <td>(یخ, 129)</td>\n",
       "      <td>(میدم, 101)</td>\n",
       "    </tr>\n",
       "    <tr>\n",
       "      <th>44</th>\n",
       "      <td>(خوش, 129)</td>\n",
       "      <td>(لطفا, 101)</td>\n",
       "    </tr>\n",
       "    <tr>\n",
       "      <th>45</th>\n",
       "      <td>(بشه, 128)</td>\n",
       "      <td>(نظرم, 98)</td>\n",
       "    </tr>\n",
       "    <tr>\n",
       "      <th>46</th>\n",
       "      <td>(سفت, 127)</td>\n",
       "      <td>(خمیر, 97)</td>\n",
       "    </tr>\n",
       "    <tr>\n",
       "      <th>47</th>\n",
       "      <td>(قیمتش, 127)</td>\n",
       "      <td>(هستم, 95)</td>\n",
       "    </tr>\n",
       "    <tr>\n",
       "      <th>48</th>\n",
       "      <td>(سریع, 126)</td>\n",
       "      <td>(نوشابه, 94)</td>\n",
       "    </tr>\n",
       "    <tr>\n",
       "      <th>49</th>\n",
       "      <td>(دست, 126)</td>\n",
       "      <td>(اون, 93)</td>\n",
       "    </tr>\n",
       "  </tbody>\n",
       "</table>\n",
       "</div>"
      ],
      "text/plain": [
       "            bad food        good food\n",
       "0       (پایین, 436)      (موقع, 452)\n",
       "1      (افتضاح, 361)       (داغ, 404)\n",
       "2       (مونده, 357)       (خوش, 402)\n",
       "3        (ساعت, 319)      (سریع, 324)\n",
       "4        (خمیر, 235)    (ممنونم, 270)\n",
       "5       (میداد, 229)        (چی, 247)\n",
       "6        (داخل, 223)       (یکم, 237)\n",
       "7      (نوشابه, 218)      (بودم, 223)\n",
       "8         (خشک, 217)   (بودعالی, 217)\n",
       "9         (بوی, 215)     (عالیه, 188)\n",
       "10      (تاخیر, 211)      (تشکر, 176)\n",
       "11        (خام, 211)      (لذیذ, 176)\n",
       "12       (روغن, 209)      (دوست, 172)\n",
       "13        (شور, 207)     (مقدار, 167)\n",
       "14        (کلا, 206)      (مرسی, 167)\n",
       "15        (شدت, 202)      (خوبه, 163)\n",
       "16      (دقیقه, 198)      (حجمش, 151)\n",
       "17       (فیله, 182)  (امیدوارم, 148)\n",
       "18      (سوخته, 179)       (زود, 146)\n",
       "19        (توی, 173)   (بودخیلی, 142)\n",
       "20      (هزینه, 171)      (داره, 139)\n",
       "21      (انگار, 170)    (مخصوصا, 137)\n",
       "22     (پیتزای, 157)     (داشتم, 136)\n",
       "23       (تیکه, 155)     (میکنم, 131)\n",
       "24  (سوخته_بود, 153)       (بشه, 129)\n",
       "25      (خوردن, 149)    (برخورد, 126)\n",
       "26     (ژامبون, 148)      (طعمش, 124)\n",
       "27       (کاهو, 147)   (توضیحات, 120)\n",
       "28        (تکه, 146)     (قیمتش, 120)\n",
       "29        (ظرف, 144)       (کاش, 117)\n",
       "30        (بدی, 141)   (سبزیجات, 114)\n",
       "31       (داره, 140)       (شور, 112)\n",
       "32        (هات, 140)      (داخل, 111)\n",
       "33       (ترین, 138)    (پیتزای, 111)\n",
       "34         (چی, 137)    (بودمثل, 111)\n",
       "35        (اون, 136)       (اگه, 108)\n",
       "36       (بودم, 134)      (خسته, 108)\n",
       "37        (داغ, 134)    (بودخوب, 107)\n",
       "38          ((, 133)   (پیشنهاد, 104)\n",
       "39        (چرب, 133)      (کمتر, 103)\n",
       "40       (موقع, 132)      (فیله, 103)\n",
       "41        (یکم, 132)     (اضافه, 102)\n",
       "42        (داگ, 131)       (دست, 102)\n",
       "43         (یخ, 129)      (میدم, 101)\n",
       "44        (خوش, 129)      (لطفا, 101)\n",
       "45        (بشه, 128)       (نظرم, 98)\n",
       "46        (سفت, 127)       (خمیر, 97)\n",
       "47      (قیمتش, 127)       (هستم, 95)\n",
       "48       (سریع, 126)     (نوشابه, 94)\n",
       "49        (دست, 126)        (اون, 93)"
      ]
     },
     "execution_count": 109,
     "metadata": {},
     "output_type": "execute_result"
    }
   ],
   "source": [
    "\n",
    "dataframe = {}\n",
    "dataframe['bad food'] = FreqDist(final_bad_tokens).most_common(50)\n",
    "dataframe['good food'] = FreqDist(final_good_tokens).most_common(50)\n",
    "\n",
    "freq_analysis = pd.DataFrame(dataframe) \n",
    "\n",
    "freq_analysis"
   ]
  },
  {
   "cell_type": "code",
   "execution_count": null,
   "metadata": {},
   "outputs": [],
   "source": []
  }
 ],
 "metadata": {
  "kernelspec": {
   "display_name": "Python 3 (ipykernel)",
   "language": "python",
   "name": "python3"
  },
  "language_info": {
   "codemirror_mode": {
    "name": "ipython",
    "version": 3
   },
   "file_extension": ".py",
   "mimetype": "text/x-python",
   "name": "python",
   "nbconvert_exporter": "python",
   "pygments_lexer": "ipython3",
   "version": "3.8.10"
  }
 },
 "nbformat": 4,
 "nbformat_minor": 4
}
